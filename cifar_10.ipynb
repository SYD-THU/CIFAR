{
 "cells": [
  {
   "cell_type": "code",
   "execution_count": 1,
   "source": [
    "# 数据加载及预处理\r\n",
    "import torch\r\n",
    "import torchvision as tv\r\n",
    "import torchvision.transforms as transforms\r\n",
    "from torchvision.transforms import ToPILImage\r\n",
    "show = ToPILImage() #将Tensor转化为image，方便可视化\r\n",
    "\r\n",
    "transform = transforms.Compose([\r\n",
    "    transforms.ToTensor(),\r\n",
    "    transforms.Normalize((0.5, 0.5, 0.5),(0.5, 0.5, 0.5))\r\n",
    "])\r\n",
    "# 训练集\r\n",
    "train_set = tv.datasets.CIFAR10(\r\n",
    "    root = 'R:\\coding\\CIFAR_10_cls',\r\n",
    "    train = True,\r\n",
    "    download=False,\r\n",
    "    transform = transform\r\n",
    ")\r\n",
    "train_loader = torch.utils.data.DataLoader(\r\n",
    "    train_set,\r\n",
    "    batch_size = 4,\r\n",
    "    shuffle = True,\r\n",
    "    num_workers = 2\r\n",
    ")\r\n",
    "\r\n",
    "# 测试集\r\n",
    "test_set = tv.datasets.CIFAR10(\r\n",
    "    root = 'R:\\coding\\CIFAR_10_cls',\r\n",
    "    train = True,\r\n",
    "    download=False,\r\n",
    "    transform = transform\r\n",
    ")\r\n",
    "\r\n",
    "train_loader = torch.utils.data.DataLoader(\r\n",
    "    train_set,\r\n",
    "    batch_size = 4,\r\n",
    "    shuffle = False,\r\n",
    "    num_workers = 2\r\n",
    ")\r\n",
    "\r\n",
    "classes = ('plane', 'car', 'bird', 'cat', 'deer', 'dog', 'frog', 'horse', 'ship', 'truck')\r\n"
   ],
   "outputs": [],
   "metadata": {}
  },
  {
   "cell_type": "code",
   "execution_count": 5,
   "source": [
    "# dataset对象是一个数据集，可以按照下标进行访问，返回数据。\r\n",
    "(data, label) = train_set[5]\r\n",
    "print(label, classes[label])\r\n",
    "show = ToPILImage() #将Tensor转化为image，方便可视化\r\n",
    "show((data+1) / 2).resize((100, 100))"
   ],
   "outputs": [
    {
     "output_type": "stream",
     "name": "stdout",
     "text": [
      "1 car\n"
     ]
    },
    {
     "output_type": "execute_result",
     "data": {
      "text/plain": [
       "<PIL.Image.Image image mode=RGB size=100x100 at 0x1565F655C50>"
      ],
      "image/png": "[encoded data removed]"
     },
     "metadata": {},
     "execution_count": 5
    }
   ],
   "metadata": {}
  },
  {
   "cell_type": "code",
   "execution_count": 11,
   "source": [
    "# dataloader是一个可迭代对象，\r\n",
    "# 将dataset返回的每一条数据样本拼接成一个batch，并提供多线程加速优化和数据打乱等操作。\r\n",
    "# 当程序对dataset的所有数据层遍历完成一遍之后，对dataloader也就完成了一次迭代。\r\n",
    "data_iter = iter(train_loader)\r\n",
    "images, labels = data_iter.next() # 返回四张图片及标签\r\n",
    "print(' '.join('%11s'%classes[labels[j]] for j in range(4)))\r\n",
    "show(tv.utils.make_grid((images+1)/2)).resize((400,100))"
   ],
   "outputs": [
    {
     "output_type": "stream",
     "name": "stdout",
     "text": [
      "       frog       truck       truck        deer\n"
     ]
    },
    {
     "output_type": "execute_result",
     "data": {
      "text/plain": [
       "<PIL.Image.Image image mode=RGB size=400x100 at 0x1560055B160>"
      ],
      "image/png": "[encoded data removed]"
     },
     "metadata": {},
     "execution_count": 11
    }
   ],
   "metadata": {}
  },
  {
   "cell_type": "code",
   "execution_count": 8,
   "source": [
    "# 定义NN\r\n",
    "import torch.nn as nn\r\n",
    "import torch.nn.functional as F\r\n",
    "\r\n",
    "class Net(nn.Module):\r\n",
    "    def __init__(self):\r\n",
    "        super(Net, self).__init__()\r\n",
    "        self.conv_1 = nn.Conv2d(3, 6, 5)\r\n",
    "        self.conv_2 = nn.Conv2d(6, 16, 5)\r\n",
    "        self.fc_1 = nn.Linear(16*5*5, 120)\r\n",
    "        self.fc_2 = nn.Linear(120, 84)\r\n",
    "        self.fc_3 = nn.Linear(84, 10)\r\n",
    "    \r\n",
    "    def forward(self, x):\r\n",
    "        x = F.max_pool2d(F.relu(self.conv_1(x)), (2, 2))\r\n",
    "        x = F.max_pool2d(F.relu(self.conv_2(x)), 2)\r\n",
    "        x = x.view(x.size()[0], -1) # reshape, -1表示自适应\r\n",
    "        x = F.relu(self.fc_1(x))\r\n",
    "        x = F.relu(self.fc_2(x))\r\n",
    "        x = self.fc_3(x)\r\n",
    "        return x\r\n",
    "net = Net()\r\n",
    "print(net)\r\n",
    "\r\n",
    "# 定义损失函数与优化器\r\n",
    "from torch import optim\r\n",
    "criterion = nn.CrossEntropyLoss()\r\n",
    "optimizer = optim.SGD(net.parameters(), lr=0.001, momentum=0.9)"
   ],
   "outputs": [
    {
     "output_type": "stream",
     "name": "stdout",
     "text": [
      "Net(\n",
      "  (conv_1): Conv2d(3, 6, kernel_size=(5, 5), stride=(1, 1))\n",
      "  (conv_2): Conv2d(6, 16, kernel_size=(5, 5), stride=(1, 1))\n",
      "  (fc_1): Linear(in_features=400, out_features=120, bias=True)\n",
      "  (fc_2): Linear(in_features=120, out_features=84, bias=True)\n",
      "  (fc_3): Linear(in_features=84, out_features=10, bias=True)\n",
      ")\n"
     ]
    }
   ],
   "metadata": {}
  },
  {
   "cell_type": "code",
   "execution_count": 13,
   "source": [
    "from torch.autograd import Variable\r\n",
    "# 训练网络\r\n",
    "for epoch in range(2):\r\n",
    "    running_loss = 0.0\r\n",
    "    for i, data in enumerate(train_loader, 0):  # 0：从索引0开始\r\n",
    "        inputs, labels = data\r\n",
    "        inputs, labels = Variable(inputs), Variable(labels)\r\n",
    "        optimizer.zero_grad()\r\n",
    "\r\n",
    "        outputs = net(inputs)\r\n",
    "        loss = criterion(outputs, labels)\r\n",
    "        loss.backward()\r\n",
    "        optimizer.step()\r\n",
    "\r\n",
    "        running_loss += loss.item()  # 后续，每2000打印一次，取这2000的平均\r\n",
    "        if i % 2000 == 1999:\r\n",
    "            print('[%d, %5d] loss= %.3f' % (epoch+1, i+1, running_loss/2000))\r\n",
    "            running_loss = 0\r\n",
    "print('done!!')"
   ],
   "outputs": [
    {
     "output_type": "stream",
     "name": "stdout",
     "text": [
      "[1,  2000] loss= 2.213\n",
      "[1,  4000] loss= 1.885\n",
      "[1,  6000] loss= 1.706\n",
      "[1,  8000] loss= 1.598\n",
      "[1, 10000] loss= 1.563\n",
      "[1, 12000] loss= 1.491\n",
      "[2,  2000] loss= 1.429\n",
      "[2,  4000] loss= 1.403\n",
      "[2,  6000] loss= 1.338\n",
      "[2,  8000] loss= 1.301\n",
      "[2, 10000] loss= 1.310\n",
      "[2, 12000] loss= 1.270\n",
      "done!!\n"
     ]
    }
   ],
   "metadata": {}
  }
 ],
 "metadata": {
  "orig_nbformat": 4,
  "language_info": {
   "name": "python",
   "version": "3.6.13",
   "mimetype": "text/x-python",
   "codemirror_mode": {
    "name": "ipython",
    "version": 3
   },
   "pygments_lexer": "ipython3",
   "nbconvert_exporter": "python",
   "file_extension": ".py"
  },
  "kernelspec": {
   "name": "python3",
   "display_name": "Python 3.6.13 64-bit ('pytorch': conda)"
  },
  "interpreter": {
   "hash": "7f77929ede290b9845ccd3d1b523b4e5c1365c8685b1372b9dcb4e52003ded07"
  }
 },
 "nbformat": 4,
 "nbformat_minor": 2
}